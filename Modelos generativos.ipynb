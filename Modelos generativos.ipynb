{
 "cells": [
  {
   "cell_type": "code",
   "execution_count": 1,
   "metadata": {},
   "outputs": [],
   "source": [
    "import numpy as np\n",
    "import matplotlib.pyplot as plt\n",
    "from scipy.special import comb, gamma\n",
    "%matplotlib inline\n",
    "\n",
    "from ipywidgets import interact, interactive_output, fixed, interact_manual, HBox, Label, VBox, Accordion\n",
    "import ipywidgets as widgets\n",
    "from IPython.display import Image\n",
    "from IPython import display\n",
    "\n",
    "layout = widgets.Layout(width='auto', height='40px')\n",
    "style = {'description_width': 'initial'}"
   ]
  },
  {
   "cell_type": "code",
   "execution_count": 2,
   "metadata": {},
   "outputs": [],
   "source": [
    "def binomial(N,m,q):\n",
    "    return comb(N,m)*(q**m)*((1-q)**(N-m))\n",
    "\n",
    "def beta(a,b,q):\n",
    "    return (gamma(a+b)/(gamma(a)*(gamma(b))))*(q**(a-1))*((1-q)**(b-1))\n",
    "\n",
    "def posteriori(N,N1,a,b,q):\n",
    "    return beta(N1+a, N-N1+b, q)\n",
    "\n",
    "def predict(M,x,a,b):\n",
    "    return comb(M,x) * (gamma(a+b)/(gamma(a)*gamma(b))) * ((gamma(x+a)*gamma(M-x+b))/gamma(a+b+M))"
   ]
  },
  {
   "cell_type": "code",
   "execution_count": 3,
   "metadata": {},
   "outputs": [],
   "source": [
    "def plot(N,N1,a,b,M):\n",
    "    theta = np.linspace(0,1,100)\n",
    "\n",
    "    priori = beta(a,b,theta)\n",
    "\n",
    "    vero = binomial(N,N1,theta)\n",
    "\n",
    "    post = posteriori(N,N1,a,b,theta) \n",
    "    \n",
    "    theta_ml = np.argmax(vero)\n",
    "    theta_map = np.argmax(post)\n",
    "\n",
    "    fig = plt.figure(figsize=(15,5))\n",
    "    fig.suptitle(f\"Analisando experimento com {N} observações, sendo {N1} caras\", fontsize=15)\n",
    "#     fig.subplots_adjust(top=0.9)\n",
    "\n",
    "    \n",
    "    plt.subplot(1,2,1)\n",
    "    plt.plot(theta, vero, 'r', label=\"Verossimilhança\")\n",
    "    plt.plot(theta, priori, 'b', label=\"Priori\")\n",
    "    plt.plot(theta, post, 'g', label=\"Posteriori\")\n",
    "    plt.scatter([theta[theta_ml]], [post[theta_ml]], label=\"theta ML\", marker=\"x\", color=\"r\", s=50)\n",
    "    plt.scatter([theta[theta_map]], [post[theta_map]], label=\"theta MAP\", marker=\"^\", color=\"g\", s=50)\n",
    "    plt.title(\"Análise das distribuições a priori e posteriori\")\n",
    "    plt.legend()\n",
    "    \n",
    "    plt.subplot(1,2,2)\n",
    "    \n",
    "    a_hat = N1 + a\n",
    "    b_hat = N - N1+ b\n",
    "    \n",
    "    x = range(0,M+1,1)\n",
    "    prediction = np.array([predict(M,x,a_hat,b_hat) for x in x])\n",
    "    \n",
    "    plt.bar(x, prediction)\n",
    "    plt.title(f\"Distribuição preditiva de caras após {M} observações\")"
   ]
  },
  {
   "cell_type": "code",
   "execution_count": 4,
   "metadata": {},
   "outputs": [
    {
     "data": {
      "application/vnd.jupyter.widget-view+json": {
       "model_id": "6438017935494535a585af58105df362",
       "version_major": 2,
       "version_minor": 0
      },
      "text/plain": [
       "VBox(children=(Accordion(children=(HBox(children=(Label(value='Total'), IntSlider(value=4, max=10, min=1), Lab…"
      ]
     },
     "metadata": {},
     "output_type": "display_data"
    },
    {
     "data": {
      "application/vnd.jupyter.widget-view+json": {
       "model_id": "22a3643293ce4e91b3040e8f8865b1d4",
       "version_major": 2,
       "version_minor": 0
      },
      "text/plain": [
       "Output()"
      ]
     },
     "metadata": {},
     "output_type": "display_data"
    }
   ],
   "source": [
    "N = widgets.IntSlider(value=4, min=1, max=10)\n",
    "N1 = widgets.IntSlider(value=2, min=1, max=10)\n",
    "M = widgets.IntSlider(value=5, min=1, max=10)\n",
    "a = widgets.IntSlider(value=2, min=1, max=10, description='a')\n",
    "b = widgets.IntSlider(value=2, min=1, max=10, description='b')\n",
    "interactive_plot = interactive_output(plot, \n",
    "                               {\"N\":N,\n",
    "#                                N=widgets.IntSlider(value=4, min=1, max=10, description=\"Observações iniciais\", style=style), \n",
    "#                                N1=widgets.IntSlider(value=2, min=1, max=10, description=\"Observações iniciais com cara\", style=style), \n",
    "                               \"N1\":N1,\n",
    "                               \"a\":a, \"b\":b, \n",
    "#                                M=widgets.IntSlider(value=5, min=1, max=10, description=\"Próximas observações\")\n",
    "                               \"M\":M}\n",
    "                              )\n",
    "\n",
    "acc = Accordion([\n",
    "    HBox([Label(\"Total\"), N, Label(\"Caras\"), N1]),\n",
    "    HBox([a,b]),\n",
    "])\n",
    "\n",
    "acc.set_title(0,\"Observações iniciais\")\n",
    "acc.set_title(1,\"Hiperparâmetros\")\n",
    "\n",
    "ui = VBox([\n",
    "    acc,\n",
    "    HBox([Label(\"Observações posteriores\"), M])\n",
    "])\n",
    "\n",
    "display.display(ui, interactive_plot)"
   ]
  }
 ],
 "metadata": {
  "kernelspec": {
   "display_name": "Python 3",
   "language": "python",
   "name": "python3"
  },
  "language_info": {
   "codemirror_mode": {
    "name": "ipython",
    "version": 3
   },
   "file_extension": ".py",
   "mimetype": "text/x-python",
   "name": "python",
   "nbconvert_exporter": "python",
   "pygments_lexer": "ipython3",
   "version": "3.8.2"
  }
 },
 "nbformat": 4,
 "nbformat_minor": 4
}

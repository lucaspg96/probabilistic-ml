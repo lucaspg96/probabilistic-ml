{
 "cells": [
  {
   "cell_type": "markdown",
   "metadata": {},
   "source": [
    "# Inferência Variacional\n",
    "---\n",
    "\n",
    "A partir de um conjunto de dados $\\mathcal{D}$, podemos tentar inferir os parâmetros de uma distribuição gaussiana que, provavelmente, gerou aqueles dados. Considerando uma gaussiana $\\mathcal{N}(x | \\mu, \\tau^{-1})$, onde $\\mu$ é a média e $\\tau$ a precisão, buscamos encontrar a probabilidade a posteriori $p(\\mu, \\tau^{-1} | \\mathcal{D})$, inferindo, assim, os parâmetros da distribuição.\n",
    "\n",
    "A verossimilhança será dada por:\n",
    "\n",
    "$$p(\\mathcal{D} | \\mu, \\tau) = \\prod^N_{i = 1} \\mathcal{N}(x_i | \\mu, \\tau^{-1})$$\n",
    "\n",
    "Assumiremos, também, uma priori conjugada para os parâmetros da gaussiana:\n",
    "\n",
    "$$p(\\mu, \\tau) = \\mathcal{N}(\\mu | \\mu_0, (\\kappa_0 \\tau)^{-1}) Ga(\\tau | a_0, b_0) $$\n",
    "\n",
    "A posteriori será representada de forma fatorada, sendo $q(\\mu, \\tau) = q_{\\mu}(\\mu) q_{\\tau}(\\tau)$."
   ]
  },
  {
   "cell_type": "markdown",
   "metadata": {},
   "source": [
    "---\n",
    "Podemos encontrar $q_{\\mu}(\\mu)$ marginalizando $\\tau$ na log-conjunta:\n",
    "\n",
    "$$ \\log q_{\\mu}(\\mu) = \\mathbb{E}_{q_{\\tau}}[\\log p(\\mathcal{D} | \\mu, \\tau) p(\\mu | \\tau) p(\\tau)] + constante $$\n",
    "\n",
    "$$ = - \\frac{\\mathbb{E}_{q_{\\tau}}[\\tau]}{2} \\left[ \\mu^2(\\kappa_0 + N) - 2\\mu \\left( \\kappa_0 \\mu_0 + \\sum^N_{i = 1} x_i \\right) \\right] + constante $$\n",
    "\n",
    "$$ = \\log \\mathcal{N}(\\mu | \\mu_N, \\kappa_N^{-1}) \\propto - \\frac{\\kappa_n}{2}(\\mu^2 - 2\\mu \\mu_N + \\mu^2_N)$$\n",
    "\n",
    "Assim, temos que a fórmula ótima de $q_{\\mu}(\\mu)$ será a gaussiana $\\mathcal{N}(\\mu | \\mu_N, \\kappa_N^{-1})$, onde:\n",
    "\n",
    "$$\\mu_N = \\frac{\\kappa_0 \\mu_0 + \\sum^N_{i=1} x_i}{\\kappa_0 + N} $$\n",
    "\n",
    "$$ \\kappa_N = (\\kappa_0 + N)\\mathbb{E}_{q_{\\tau}}[\\tau] $$\n",
    "\n",
    "Onde $\\mathbb{E}_{q_{\\tau}}[\\tau]$ será calculado quando obtivermos a forma de $q_{\\tau}(\\tau)$ ."
   ]
  },
  {
   "cell_type": "markdown",
   "metadata": {},
   "source": [
    "---\n",
    "De forma análoga, podemos encontrar $q_{\\tau}(\\tau)$, marginalizando $\\mu$ na log-conjunta:\n",
    "\n",
    "$$\\log q_{\\tau}(\\tau) = \\mathbb{E}_{q_{\\mu}}[\\log p(\\mathcal{D} | \\mu, \\tau) + \\log p(\\mu | \\tau) + \\log p(\\tau)] + constante $$\n",
    "\n",
    "$$ = -\\tau \\left[ b_0 + \\frac{1}{2} \\mathbb{E}_{q_{\\mu}}\\left(\\sum^N_{i=1} (x_i - \\mu)^2 + \\kappa_0(\\mu-\\mu_0)\\right)\\right] + constante $$\n",
    "\n",
    "$$ \\log Ga(\\tau | a_N, b_N) \\propto (a_N - 1) \\log \\tau - b_N \\tau $$\n",
    "\n",
    "Assim, temos que a fórmula ótima de $q_{\\tau}(\\tau)$ será a gamma $Ga(\\tau | a_N, b_N)$, onde:\n",
    "\n",
    "$$a_N = a_0 + \\frac{N+1}{2} $$\n",
    "\n",
    "$$b_N = b_0 + \\frac{\\kappa_0}{2}(\\mathbb{E}_{q_{\\mu}}[\\mu^2] - 2\\mathbb{E}_{q_{\\mu}}[\\mu]\\mu_0 + \\mu_0^2) + \\frac{1}{2}\\sum^N_{i=1}(x_i^2 - 2x_i\\mathbb{E}_{q_{\\mu}}[\\mu] + \\mathbb{E}_{q_{\\mu}}[\\mu^2]) $$\n",
    "\n",
    "Agora, podemos computar as esperanças necessárias:\n",
    "\n",
    "$$ \\mathbb{E}_{q_{\\tau}}[\\tau] = \\frac{a_N}{b_N} $$\n",
    "\n",
    "$$\\mathbb{E}_{q_{\\mu}}[\\mu] = \\mu_N $$\n",
    "\n",
    "$$\\mathbb{E}_{q_{\\mu}}[\\mu^2] = \\frac{1}{\\kappa_N} + \\mu_N^2 $$"
   ]
  },
  {
   "cell_type": "markdown",
   "metadata": {},
   "source": [
    "---\n",
    "Em resumo, as atualizações são as seguintes:\n",
    "\n",
    "$$q_{\\mu}(\\mu) = \\mathcal{N}(\\mu | \\mu_N, \\kappa_N^{-1}), \\hspace{0.5cm} \\mu_N = \\frac{\\kappa_0 \\mu_0 + \\sum^N_{i=1} x_i}{\\kappa_0 + N}, \\hspace{0.5cm} \\kappa_N = (\\kappa_0 + N)\\frac{a_N}{b_N}$$\n",
    "\n",
    "$$q_{\\tau}(\\tau) = Ga(\\tau | a_N, b_N), \\hspace{0.5cm} a_N = a_0 + \\frac{N+1}{2} \\hspace{0.5cm} b_N = b_0 + \\frac{\\kappa_0}{2}(\\frac{1}{\\kappa_N} + \\mu_N^2 - 2\\mu_N\\mu_0 + \\mu_0^2) + \\frac{1}{2}\\sum^N_{i=1}(x_i^2 - 2x_i\\mu_N + \\frac{1}{\\kappa_N} + \\mu_N^2)$$\n",
    "\n",
    "É importante observar que $\\mu_N$ e $a_N$ são valores fixos, mas, devido a sua dependência cíclica, $\\mu_N$ e $b_N$ precisam ser atualizados iterativamente"
   ]
  },
  {
   "cell_type": "code",
   "execution_count": 1,
   "metadata": {},
   "outputs": [],
   "source": [
    "%matplotlib inline\n",
    "import numpy as np\n",
    "from scipy.stats import multivariate_normal, gamma, norm\n",
    "import matplotlib.pyplot as plt"
   ]
  },
  {
   "cell_type": "markdown",
   "metadata": {},
   "source": [
    "Vamos iniciar nossa inferência, visualizando o dataset"
   ]
  },
  {
   "cell_type": "code",
   "execution_count": 2,
   "metadata": {},
   "outputs": [
    {
     "data": {
      "image/png": "[encoded data removed]",
      "text/plain": [
       "<Figure size 432x288 with 1 Axes>"
      ]
     },
     "metadata": {
      "needs_background": "light"
     },
     "output_type": "display_data"
    }
   ],
   "source": [
    "X = np.loadtxt(\"gaussian_1d.csv\", delimiter=',')\n",
    "_ = plt.hist(X)"
   ]
  },
  {
   "cell_type": "markdown",
   "metadata": {},
   "source": [
    "Agora, vamos implementar os cálculos descritos anteriormente"
   ]
  },
  {
   "cell_type": "code",
   "execution_count": 3,
   "metadata": {},
   "outputs": [],
   "source": [
    "def fit(X, mean_0, k_0, a_0, b_0, itter=400):\n",
    "    N = X.shape[0]\n",
    "    \n",
    "    mean = (k_0*mean_0 + np.sum(X)) / (k_0 + N)\n",
    "    a = a_0 + (N+1)/2\n",
    "    \n",
    "    k = k_0\n",
    "    b = b_0\n",
    "    \n",
    "    mean_diff = (mean - mean_0)**2\n",
    "    X_diff = (X - mean)**2\n",
    "    \n",
    "    for i in range(itter):\n",
    "        k = (k_0 + N) * a / b\n",
    "        b = b_0 + (k_0/2)*((1/k) + mean_diff) + 0.5*np.sum((1/k) + X_diff)\n",
    "    \n",
    "    post_mean = lambda m: norm(mean, 1/k).pdf(m)\n",
    "    \n",
    "    post_tau = lambda t: gamma(a=a,scale=1/b).pdf(t)\n",
    "    \n",
    "    return (mean, 1/k, post_mean), (a/b, post_tau)\n",
    "\n",
    "# definição da priori para tau\n",
    "a_0 = 2\n",
    "b_0 = 1\n",
    "priori_tau = lambda t: gamma(a=a_0,scale=1/b_0).pdf(t)\n",
    "\n",
    "# definição da priori para mu\n",
    "mean_0 = 0\n",
    "tau_0 = 1\n",
    "k_0 = 1\n",
    "priori_mean = lambda m: norm(mean_0, 1/(k_0*tau_0)).pdf(m)\n",
    "\n",
    "(expected_mean, var_mean, post_mean), (expected_tau, post_tau) = fit(X, mean_0, k_0, a_0, b_0)"
   ]
  },
  {
   "cell_type": "markdown",
   "metadata": {},
   "source": [
    "### Analisando as distribuições de $\\mu$"
   ]
  },
  {
   "cell_type": "code",
   "execution_count": 4,
   "metadata": {},
   "outputs": [
    {
     "data": {
      "image/png": "[encoded data removed]",
      "text/plain": [
       "<Figure size 432x288 with 1 Axes>"
      ]
     },
     "metadata": {
      "needs_background": "light"
     },
     "output_type": "display_data"
    }
   ],
   "source": [
    "margin = 3*np.sqrt(X.var())\n",
    "m = np.linspace(-margin, margin, 100) + mean_0\n",
    "plt.plot(m, priori_mean(m), label=\"$p(\\mu)$\")\n",
    "plt.plot(m, post_mean(m), label=\"$q(\\mu)$\")\n",
    "plt.gca().axvline(x=expected_mean, color=\"g\", label=\"$\\mathbb{E}_{q_{\\mu}}[\\mu]$\")\n",
    "_ = plt.legend()"
   ]
  },
  {
   "cell_type": "markdown",
   "metadata": {},
   "source": [
    "### Analisando as distribuições de $\\tau$"
   ]
  },
  {
   "cell_type": "code",
   "execution_count": 5,
   "metadata": {},
   "outputs": [
    {
     "data": {
      "image/png": "[encoded data removed]",
      "text/plain": [
       "<Figure size 432x288 with 1 Axes>"
      ]
     },
     "metadata": {
      "needs_background": "light"
     },
     "output_type": "display_data"
    }
   ],
   "source": [
    "t = np.linspace(0, 10, 100)\n",
    "plt.plot(t, priori_tau(t), label=\"$p(\\tau)$\")\n",
    "plt.plot(t, post_tau(t), label=\"$q(\\tau)$\")\n",
    "plt.gca().axvline(x=expected_tau, color=\"g\", label=\"$\\mathbb{E}_{q_{\\tau}}[\\tau]$\")\n",
    "_ = plt.legend()"
   ]
  }
 ],
 "metadata": {
  "kernelspec": {
   "display_name": "Python 3",
   "language": "python",
   "name": "python3"
  },
  "language_info": {
   "codemirror_mode": {
    "name": "ipython",
    "version": 3
   },
   "file_extension": ".py",
   "mimetype": "text/x-python",
   "name": "python",
   "nbconvert_exporter": "python",
   "pygments_lexer": "ipython3",
   "version": "3.8.2"
  }
 },
 "nbformat": 4,
 "nbformat_minor": 4
}
